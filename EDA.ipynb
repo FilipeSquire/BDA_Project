{
 "cells": [
  {
   "cell_type": "code",
   "execution_count": 0,
   "metadata": {
    "application/vnd.databricks.v1+cell": {
     "cellMetadata": {
      "byteLimit": 2048000,
      "rowLimit": 10000
     },
     "inputWidgets": {},
     "nuid": "d6342433-152f-420f-9b28-361c2d4a9a5d",
     "showTitle": false,
     "tableResultSettingsMap": {},
     "title": ""
    }
   },
   "outputs": [],
   "source": [
    "!pip install kagglehub"
   ]
  },
  {
   "cell_type": "code",
   "execution_count": 0,
   "metadata": {
    "application/vnd.databricks.v1+cell": {
     "cellMetadata": {
      "byteLimit": 2048000,
      "rowLimit": 10000
     },
     "inputWidgets": {},
     "nuid": "29c0f85a-b423-4ebf-aa88-02681601b1ab",
     "showTitle": false,
     "tableResultSettingsMap": {},
     "title": ""
    }
   },
   "outputs": [],
   "source": [
    "import kagglehub\n",
    "\n",
    "# Download latest version\n",
    "path = kagglehub.dataset_download(\"stefanoleone992/mutual-funds-and-etfs\")\n",
    "\n",
    "print(\"Path to dataset files:\", path)"
   ]
  },
  {
   "cell_type": "code",
   "execution_count": 0,
   "metadata": {
    "application/vnd.databricks.v1+cell": {
     "cellMetadata": {
      "byteLimit": 2048000,
      "rowLimit": 10000
     },
     "inputWidgets": {},
     "nuid": "728d2f45-eaa3-4d2c-aa46-38c39c78f9b7",
     "showTitle": false,
     "tableResultSettingsMap": {},
     "title": ""
    }
   },
   "outputs": [],
   "source": [
    "import shutil\n",
    "import os\n",
    "import glob\n",
    "from pathlib import Path\n",
    "\n",
    "# Local path where kagglehub downloaded files\n",
    "local_path = Path(\"/root/.cache/kagglehub/datasets/stefanoleone992/mutual-funds-and-etfs/versions/4\")\n",
    "\n",
    "# Target path in DBFS\n",
    "dbfs_path = \"dbfs:/tmp/mutual-funds-and-etfs\"\n",
    "\n",
    "# Copy each file to DBFS\n",
    "for file in glob.glob(str(local_path / \"*\")):\n",
    "    file_name = os.path.basename(file)\n",
    "    dbutils.fs.cp(f\"file:{file}\", f\"{dbfs_path}/{file_name}\")\n"
   ]
  },
  {
   "cell_type": "code",
   "execution_count": 0,
   "metadata": {
    "application/vnd.databricks.v1+cell": {
     "cellMetadata": {
      "byteLimit": 2048000,
      "rowLimit": 10000
     },
     "inputWidgets": {},
     "nuid": "575be40e-5d04-4a0b-a6b7-d1ca80e16f4d",
     "showTitle": false,
     "tableResultSettingsMap": {},
     "title": ""
    }
   },
   "outputs": [],
   "source": [
    "# List local\n",
    "# os.listdir(\"/root/.cache/kagglehub/datasets/whenamancodes/fraud-detection/versions/1\")\n",
    "\n",
    "# List DBFS\n",
    "display(dbutils.fs.ls(\"dbfs:/tmp/mutual-funds-and-etfs/\"))\n",
    "# dbutils.fs.rm(\"dbfs:/_delta_log\", recurse=True)\n"
   ]
  },
  {
   "cell_type": "code",
   "execution_count": 0,
   "metadata": {
    "application/vnd.databricks.v1+cell": {
     "cellMetadata": {
      "byteLimit": 2048000,
      "rowLimit": 10000
     },
     "inputWidgets": {},
     "nuid": "02273e56-05d0-4e53-9de5-4e9c88693597",
     "showTitle": false,
     "tableResultSettingsMap": {},
     "title": ""
    }
   },
   "outputs": [],
   "source": [
    "\n",
    "#The CSV file contains all historical prices available on YahooFinance for the 2,310 scraped ETFs\n",
    "etc_prices = spark.read.csv(\"dbfs:/tmp/mutual-funds-and-etfs/ETF prices.csv\", header=True, inferSchema=True)\n",
    "\n",
    "# The CSV file contains data for 2,310 ETFs with 142 different attributes\n",
    "etfs = spark.read.csv(\"dbfs:/tmp/mutual-funds-and-etfs/ETFs.csv\", header=True, inferSchema=True)\n",
    "\n",
    "# These datasets are a list of funds with their fund code, date and price \n",
    "# The CSV file contains all historical prices available on YahooFinance for the scraped Mutual Funds with symbol starting with letters from A to E\n",
    "fund_a_e = spark.read.csv(\"dbfs:/tmp/mutual-funds-and-etfs/MutualFund prices - A-E.csv\", header=True, inferSchema=True)\n",
    "fund_f_k = spark.read.csv(\"dbfs:/tmp/mutual-funds-and-etfs/MutualFund prices - F-K.csv\", header=True, inferSchema=True)\n",
    "fund_l_p= spark.read.csv(\"dbfs:/tmp/mutual-funds-and-etfs/MutualFund prices - L-P.csv\", header=True, inferSchema=True)\n",
    "d_q_z = spark.read.csv(\"dbfs:/tmp/mutual-funds-and-etfs/MutualFund prices - Q-Z.csv\", header=True, inferSchema=True)\n",
    "\n",
    "# The CSV file contains data for 23,783 Mutual Funds with 298 different attributes\n",
    "funds =  spark.read.csv(\"dbfs:/tmp/mutual-funds-and-etfs/MutualFunds.csv\", header=True, inferSchema=True)"
   ]
  },
  {
   "cell_type": "code",
   "execution_count": 0,
   "metadata": {
    "application/vnd.databricks.v1+cell": {
     "cellMetadata": {},
     "inputWidgets": {},
     "nuid": "dc9cd337-7d50-450d-9e67-1e6a80a82011",
     "showTitle": false,
     "tableResultSettingsMap": {},
     "title": ""
    }
   },
   "outputs": [],
   "source": []
  }
 ],
 "metadata": {
  "application/vnd.databricks.v1+notebook": {
   "computePreferences": null,
   "dashboards": [],
   "environmentMetadata": {
    "base_environment": "",
    "environment_version": "2"
   },
   "inputWidgetPreferences": null,
   "language": "python",
   "notebookMetadata": {
    "pythonIndentUnit": 4
   },
   "notebookName": "EDA",
   "widgets": {}
  },
  "language_info": {
   "name": "python"
  }
 },
 "nbformat": 4,
 "nbformat_minor": 0
}
